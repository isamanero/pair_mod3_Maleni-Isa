{
 "cells": [
  {
   "cell_type": "markdown",
   "metadata": {},
   "source": [
    "# Creación y Indexación:"
   ]
  },
  {
   "cell_type": "code",
   "execution_count": null,
   "metadata": {},
   "outputs": [],
   "source": [
    "# 1.-Crea un array 1D con 50 valores aleatorio del 10 al 99. array_randint_bi = np.random.randint(0, 50, (4,5))"
   ]
  },
  {
   "cell_type": "code",
   "execution_count": 2,
   "metadata": {},
   "outputs": [],
   "source": [
    "import numpy as np\n",
    "import random"
   ]
  },
  {
   "cell_type": "code",
   "execution_count": null,
   "metadata": {},
   "outputs": [
    {
     "name": "stdout",
     "output_type": "stream",
     "text": [
      "Nuestro array 1D es: \n",
      "[[53 14 64 31 43 60 56 90 29 63 85 90 31 22 38 27 96 62 21 24 17 75 39 61\n",
      "  77 43 95 47 37 59 96 76 77 84 13 38 22 87 81 59 32 29 38 46 30 83 71 83\n",
      "  29 35]]\n",
      "\n"
     ]
    }
   ],
   "source": [
    "arr1 = np.random.randint(10, 99,size=50)\n",
    "\n",
    "print(f\"Nuestro array 1D es: \\n{arr1}\\n\") # \\nn\\ es para que nos salga en la siguiente línea \"INTRO\""
   ]
  },
  {
   "cell_type": "code",
   "execution_count": 9,
   "metadata": {},
   "outputs": [
    {
     "data": {
      "text/plain": [
       "array([60, 90, 85, 90, 75, 95, 30, 35], dtype=int32)"
      ]
     },
     "execution_count": 9,
     "metadata": {},
     "output_type": "execute_result"
    }
   ],
   "source": [
    "arr1[arr1%5 ==0]"
   ]
  },
  {
   "cell_type": "code",
   "execution_count": null,
   "metadata": {},
   "outputs": [
    {
     "data": {
      "text/plain": [
       "array([53, 64, 31, 43, 60, 56, 90, 29, 63, 85, 90, 31, 22, 38, 27, 96, 62,\n",
       "       21, 24, 75, 39, 61, 77, 43, 95, 47, 37, 59, 96, 76, 77, 84, 38, 22,\n",
       "       87, 81, 59, 32, 29, 38, 46, 30, 83, 71, 83, 29, 35], dtype=int32)"
      ]
     },
     "execution_count": 10,
     "metadata": {},
     "output_type": "execute_result"
    }
   ],
   "source": [
    "arr1[arr1 >20] # Ejemplo extra, mayores de 20"
   ]
  },
  {
   "cell_type": "code",
   "execution_count": null,
   "metadata": {},
   "outputs": [],
   "source": [
    "\"\"\"2.- Crea un array 1D con 30 valores aleatorios del 1 al 20 (ambos incluidos).\"\n",
    "\"Utiliza indexación para obtener los elementos en las posiciones impares.\"\"\""
   ]
  },
  {
   "cell_type": "code",
   "execution_count": 24,
   "metadata": {},
   "outputs": [
    {
     "name": "stdout",
     "output_type": "stream",
     "text": [
      "Nuestro array 1D es: \n",
      "[ 6 10 12 10  7  7  7  5 17 14  2 14 19 17  1  4 14 20  8 12  1 19  2 20\n",
      " 17 11 10  6  2 14]\n",
      "\n"
     ]
    }
   ],
   "source": [
    "arr2 = np.random.randint(1,21,size=30)\n",
    "\n",
    "print(f\"Nuestro array 1D es: \\n{arr2}\\n\") # \\nn\\ es para que nos salga en la siguiente línea \"INTRO\""
   ]
  },
  {
   "cell_type": "code",
   "execution_count": 12,
   "metadata": {},
   "outputs": [
    {
     "data": {
      "text/plain": [
       "30"
      ]
     },
     "execution_count": 12,
     "metadata": {},
     "output_type": "execute_result"
    }
   ],
   "source": [
    "arr2.size"
   ]
  },
  {
   "cell_type": "code",
   "execution_count": 25,
   "metadata": {},
   "outputs": [
    {
     "data": {
      "text/plain": [
       "1"
      ]
     },
     "execution_count": 25,
     "metadata": {},
     "output_type": "execute_result"
    }
   ],
   "source": [
    "arr2.ndim"
   ]
  },
  {
   "cell_type": "code",
   "execution_count": 15,
   "metadata": {},
   "outputs": [
    {
     "data": {
      "text/plain": [
       "(1, 30)"
      ]
     },
     "execution_count": 15,
     "metadata": {},
     "output_type": "execute_result"
    }
   ],
   "source": [
    "arr2.shape"
   ]
  },
  {
   "cell_type": "code",
   "execution_count": null,
   "metadata": {},
   "outputs": [
    {
     "data": {
      "text/plain": [
       "array([10, 10,  7,  5, 14, 14, 17,  4, 20, 12, 19, 20, 11,  6, 14],\n",
       "      dtype=int32)"
      ]
     },
     "execution_count": 26,
     "metadata": {},
     "output_type": "execute_result"
    }
   ],
   "source": [
    "# Posiciones impares\n",
    "\n",
    "arr2[1::2]"
   ]
  },
  {
   "cell_type": "code",
   "execution_count": null,
   "metadata": {},
   "outputs": [
    {
     "data": {
      "text/plain": [
       "array([ 7,  7,  7,  5, 17, 19, 17,  1,  1, 19, 17, 11], dtype=int32)"
      ]
     },
     "execution_count": 27,
     "metadata": {},
     "output_type": "execute_result"
    }
   ],
   "source": [
    "arr2[arr2%2!=0] #EXTRA: En este ejemplo nos sacaría los impares, NO LAS POSICIONES IMPARES"
   ]
  },
  {
   "cell_type": "markdown",
   "metadata": {},
   "source": [
    "3.-Crea un array 2D de forma (4, 6) con números aleatorios decimales (no deben estar comprendidos solo entre 0 y 1). Accede a la última fila de la matriz. Los decimales deben estar redondeados a 2 decimales."
   ]
  },
  {
   "cell_type": "code",
   "execution_count": null,
   "metadata": {},
   "outputs": [
    {
     "name": "stdout",
     "output_type": "stream",
     "text": [
      "Nuestro array 2D es: \n",
      "[[1.40280523 1.60680455 1.07781725 1.43383394 1.99303732 1.22144143]\n",
      " [1.57355401 1.62056273 1.51367293 1.6654243  1.33940363 1.13946861]\n",
      " [1.44667216 1.32502062 1.68896431 1.25273099 1.11981017 1.08235373]\n",
      " [1.23669421 1.83048886 1.8358393  1.27696795 1.59068801 1.27150434]]\n",
      "\n"
     ]
    }
   ],
   "source": [
    "arr3 = np.random.uniform(1,2,(4,6))\n",
    "\n",
    "print(f\"Nuestro array 2D es: \\n{arr3}\\n\") # \\nn\\ es para que nos salga en la siguiente línea \"INTRO\""
   ]
  },
  {
   "cell_type": "code",
   "execution_count": null,
   "metadata": {},
   "outputs": [
    {
     "name": "stdout",
     "output_type": "stream",
     "text": [
      "[[1.4  1.61 1.08 1.43 1.99 1.22]\n",
      " [1.57 1.62 1.51 1.67 1.34 1.14]\n",
      " [1.45 1.33 1.69 1.25 1.12 1.08]\n",
      " [1.24 1.83 1.84 1.28 1.59 1.27]]\n"
     ]
    }
   ],
   "source": [
    "arr3 = np.round(arr3,2) # redondeamos a 2 decimales\n",
    "\n",
    "print(arr3)"
   ]
  },
  {
   "cell_type": "code",
   "execution_count": 43,
   "metadata": {},
   "outputs": [
    {
     "data": {
      "text/plain": [
       "array([1.24, 1.83, 1.84, 1.28, 1.59, 1.27])"
      ]
     },
     "execution_count": 43,
     "metadata": {},
     "output_type": "execute_result"
    }
   ],
   "source": [
    "arr3[-1]"
   ]
  },
  {
   "cell_type": "markdown",
   "metadata": {},
   "source": [
    "# Funciones Aritméticas y Estadísticas:\n",
    "\n",
    "1.- Crea un array de tres 3D con elementos entre el 0 y 1 de forma (2, 3, 5) cuyos valores solo tengan 1 decimal.\n",
    "(2,3,5)=(numero de matrices, filas de cada matriz,columnas de la matriz)"
   ]
  },
  {
   "cell_type": "code",
   "execution_count": 45,
   "metadata": {},
   "outputs": [
    {
     "data": {
      "text/plain": [
       "array([[[0.55959752, 0.82721139, 0.34505858, 0.39219123, 0.74101993],\n",
       "        [0.29835201, 0.46567605, 0.87472169, 0.02637353, 0.002974  ],\n",
       "        [0.01609959, 0.72933719, 0.41238385, 0.89596215, 0.82711024]],\n",
       "\n",
       "       [[0.35594406, 0.72947923, 0.96180265, 0.7484487 , 0.74107799],\n",
       "        [0.20127241, 0.67421572, 0.25031203, 0.15607259, 0.35595077],\n",
       "        [0.39439749, 0.02538675, 0.57268778, 0.608312  , 0.52874587]]])"
      ]
     },
     "execution_count": 45,
     "metadata": {},
     "output_type": "execute_result"
    }
   ],
   "source": [
    "arr4 = np.random.uniform(0,1,(2,3,5))\n",
    "\n",
    "arr4"
   ]
  },
  {
   "cell_type": "code",
   "execution_count": 48,
   "metadata": {},
   "outputs": [
    {
     "name": "stdout",
     "output_type": "stream",
     "text": [
      "[[[0.6 0.8 0.3 0.4 0.7]\n",
      "  [0.3 0.5 0.9 0.  0. ]\n",
      "  [0.  0.7 0.4 0.9 0.8]]\n",
      "\n",
      " [[0.4 0.7 1.  0.7 0.7]\n",
      "  [0.2 0.7 0.3 0.2 0.4]\n",
      "  [0.4 0.  0.6 0.6 0.5]]]\n"
     ]
    }
   ],
   "source": [
    "arr4 = np.round(arr4,1) # redondeamos a 1 decimal\n",
    "\n",
    "print(arr4)"
   ]
  },
  {
   "cell_type": "markdown",
   "metadata": {},
   "source": [
    "\n",
    "2.-Crea un array vacío con la misma forma y dimensiones que el array creado anteriormente. Vamos a reemplazar los valores de la matriz vacía que nos acabamos de crear pero basándonos en los valores del primer array bajo las siguientes condiciones:\n",
    "\n",
    "Si el valor del array es igual que la media, se reemplaza por \"A\".\n",
    "\n",
    "Si el valor del array es mayor que la media, se reemplaza por \"B\".\n",
    "\n",
    "Si el valor del array es menor que la media, se reemplaza por \"C\".\n",
    "\n",
    "Si el valor es igual que el máximo, se reemplaza por \"D\".\n",
    "\n",
    "Si el valor es igual que el mínimo, se reemplaza por \"E\"."
   ]
  },
  {
   "cell_type": "code",
   "execution_count": 52,
   "metadata": {},
   "outputs": [
    {
     "data": {
      "text/plain": [
       "array([[[0.55959752, 0.82721139, 0.34505858, 0.39219123, 0.74101993],\n",
       "        [0.29835201, 0.46567605, 0.87472169, 0.02637353, 0.002974  ],\n",
       "        [0.01609959, 0.72933719, 0.41238385, 0.89596215, 0.82711024]],\n",
       "\n",
       "       [[0.35594406, 0.72947923, 0.96180265, 0.7484487 , 0.74107799],\n",
       "        [0.20127241, 0.67421572, 0.25031203, 0.15607259, 0.35595077],\n",
       "        [0.39439749, 0.02538675, 0.57268778, 0.608312  , 0.52874587]]])"
      ]
     },
     "execution_count": 52,
     "metadata": {},
     "output_type": "execute_result"
    }
   ],
   "source": [
    "array_vacio_tridimensional =  np.empty((2, 3, 5))\n",
    "\n",
    "array_vacio_tridimensional"
   ]
  }
 ],
 "metadata": {
  "kernelspec": {
   "display_name": "base",
   "language": "python",
   "name": "python3"
  },
  "language_info": {
   "codemirror_mode": {
    "name": "ipython",
    "version": 3
   },
   "file_extension": ".py",
   "mimetype": "text/x-python",
   "name": "python",
   "nbconvert_exporter": "python",
   "pygments_lexer": "ipython3",
   "version": "3.12.7"
  }
 },
 "nbformat": 4,
 "nbformat_minor": 2
}
